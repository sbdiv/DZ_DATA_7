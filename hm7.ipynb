{
  "cells": [
    {
      "cell_type": "markdown",
      "metadata": {
        "colab_type": "text",
        "id": "view-in-github"
      },
      "source": [
        "<a href=\"https://colab.research.google.com/github/rusetskiy1974/Data-Sciens/blob/main/HW7.ipynb\" target=\"_parent\"><img src=\"https://colab.research.google.com/assets/colab-badge.svg\" alt=\"Open In Colab\"/></a>"
      ]
    },
    {
      "cell_type": "code",
      "execution_count": 2,
      "metadata": {
        "colab": {
          "base_uri": "https://localhost:8080/"
        },
        "id": "-GVqIA8EMbkc",
        "outputId": "14168495-fbc8-4c82-a245-a9cf5f135f79"
      },
      "outputs": [
        {
          "name": "stdout",
          "output_type": "stream",
          "text": [
            "Dataset ml-100k could not be found. Do you want to download it? [Y/n] Trying to download dataset from https://files.grouplens.org/datasets/movielens/ml-100k.zip...\n",
            "Done! Dataset ml-100k has been saved to C:\\Users\\user/.surprise_data/ml-100k\n"
          ]
        }
      ],
      "source": [
        "\n",
        "import pandas as pd\n",
        "import numpy as np\n",
        "from surprise.model_selection import cross_validate\n",
        "from surprise import Dataset, Reader, SVD, accuracy\n",
        "from surprise.model_selection import train_test_split\n",
        "\n",
        "data = Dataset.load_builtin('ml-100k')\n",
        "\n"
      ]
    },
    {
      "cell_type": "code",
      "execution_count": 3,
      "metadata": {
        "id": "TPyvZ4A_MnC5"
      },
      "outputs": [
        {
          "name": "stdout",
          "output_type": "stream",
          "text": [
            "Number of ratings: 100000\n"
          ]
        }
      ],
      "source": [
        "raw_ratings = data.raw_ratings\n",
        "print(\"Number of ratings:\", len(raw_ratings))"
      ]
    },
    {
      "cell_type": "markdown",
      "metadata": {
        "id": "C3DipDyk1abI"
      },
      "source": [
        "Аналіз  наших даних\n",
        "\n",
        "\n"
      ]
    },
    {
      "cell_type": "code",
      "execution_count": 4,
      "metadata": {
        "id": "JFHhYPTwjhZa"
      },
      "outputs": [],
      "source": [
        "from datetime import date\n",
        "dater = None"
      ]
    },
    {
      "cell_type": "code",
      "execution_count": 8,
      "metadata": {
        "colab": {
          "base_uri": "https://localhost:8080/"
        },
        "id": "Ewj_I7pSjHvn",
        "outputId": "eb4d0075-3c93-4054-f4b3-7fae069900a7"
      },
      "outputs": [
        {
          "name": "stdout",
          "output_type": "stream",
          "text": [
            "\n",
            "Top 10 samples of raw ratings:\n",
            "UserID: 196  , ItemID: 242  , UserRateForItem:   3.0, timestamp: 881250949\n",
            "UserID: 186  , ItemID: 302  , UserRateForItem:   3.0, timestamp: 891717742\n",
            "UserID: 22   , ItemID: 377  , UserRateForItem:   1.0, timestamp: 878887116\n",
            "UserID: 244  , ItemID: 51   , UserRateForItem:   2.0, timestamp: 880606923\n",
            "UserID: 166  , ItemID: 346  , UserRateForItem:   1.0, timestamp: 886397596\n",
            "UserID: 298  , ItemID: 474  , UserRateForItem:   4.0, timestamp: 884182806\n",
            "UserID: 115  , ItemID: 265  , UserRateForItem:   2.0, timestamp: 881171488\n",
            "UserID: 253  , ItemID: 465  , UserRateForItem:   5.0, timestamp: 891628467\n",
            "UserID: 305  , ItemID: 451  , UserRateForItem:   3.0, timestamp: 886324817\n",
            "UserID: 6    , ItemID: 86   , UserRateForItem:   3.0, timestamp: 883603013\n"
          ]
        }
      ],
      "source": [
        "print(\"\\nTop 10 samples of raw ratings:\")\n",
        "for rating in raw_ratings[:10]:\n",
        "  uid, iid, ur, timestamp = rating\n",
        "  print(f\"UserID: {uid:5}, ItemID: {iid:5}, UserRateForItem: {ur:5}, timestamp: {timestamp}\")"
      ]
    },
    {
      "cell_type": "code",
      "execution_count": 5,
      "metadata": {
        "colab": {
          "base_uri": "https://localhost:8080/"
        },
        "id": "R6mhoHBwj1bP",
        "outputId": "7db28d99-4dc4-438c-f675-aa1fbef017b2"
      },
      "outputs": [
        {
          "name": "stdout",
          "output_type": "stream",
          "text": [
            "\n",
            "Top 10 ratings of user: 233\n",
            "UserID: 233  , ItemID: 202  , UserRateForItem:   5.0, timestamp: 879394264\n",
            "UserID: 233  , ItemID: 375  , UserRateForItem:   4.0, timestamp: 876374419\n",
            "UserID: 233  , ItemID: 177  , UserRateForItem:   4.0, timestamp: 877661496\n",
            "UserID: 233  , ItemID: 208  , UserRateForItem:   4.0, timestamp: 880610814\n",
            "UserID: 233  , ItemID: 99   , UserRateForItem:   3.0, timestamp: 877663383\n",
            "UserID: 233  , ItemID: 482  , UserRateForItem:   4.0, timestamp: 877661437\n",
            "UserID: 233  , ItemID: 806  , UserRateForItem:   4.0, timestamp: 880610396\n",
            "UserID: 233  , ItemID: 357  , UserRateForItem:   5.0, timestamp: 877661553\n",
            "UserID: 233  , ItemID: 958  , UserRateForItem:   5.0, timestamp: 875508372\n",
            "UserID: 233  , ItemID: 48   , UserRateForItem:   5.0, timestamp: 877663184\n"
          ]
        }
      ],
      "source": [
        "search_uid = '233'\n",
        "count = 10\n",
        "print(f\"\\nTop {count} ratings of user: {search_uid}\")\n",
        "\n",
        "for rating in raw_ratings:\n",
        "  uid, iid, ur, timestamp = rating\n",
        "  if uid == search_uid:\n",
        "    count -= 1\n",
        "    print(f\"UserID: {uid:5}, ItemID: {iid:5}, UserRateForItem: {ur:5}, timestamp: {timestamp}\")\n",
        "    if count <= 0:\n",
        "      break"
      ]
    },
    {
      "cell_type": "code",
      "execution_count": 6,
      "metadata": {
        "colab": {
          "base_uri": "https://localhost:8080/"
        },
        "id": "hBsQnGXMmvm0",
        "outputId": "16994c43-02e8-4525-c1b6-61ce2cf05405"
      },
      "outputs": [
        {
          "name": "stdout",
          "output_type": "stream",
          "text": [
            "\n",
            "Top 10 ratings of item: 100\n",
            "UserID: 251  , ItemID: 100  , UserRateForItem:   4.0, timestamp: 886271884\n",
            "UserID: 10   , ItemID: 100  , UserRateForItem:   5.0, timestamp: 877891747\n",
            "UserID: 108  , ItemID: 100  , UserRateForItem:   4.0, timestamp: 879879720\n",
            "UserID: 63   , ItemID: 100  , UserRateForItem:   5.0, timestamp: 875747319\n",
            "UserID: 312  , ItemID: 100  , UserRateForItem:   4.0, timestamp: 891698613\n",
            "UserID: 65   , ItemID: 100  , UserRateForItem:   3.0, timestamp: 879217558\n",
            "UserID: 79   , ItemID: 100  , UserRateForItem:   5.0, timestamp: 891271652\n",
            "UserID: 58   , ItemID: 100  , UserRateForItem:   5.0, timestamp: 884304553\n",
            "UserID: 198  , ItemID: 100  , UserRateForItem:   1.0, timestamp: 884207325\n",
            "UserID: 184  , ItemID: 100  , UserRateForItem:   5.0, timestamp: 889907652\n"
          ]
        }
      ],
      "source": [
        "search_iid = '100'\n",
        "count = 10\n",
        "print(f\"\\nTop {count} ratings of item: {search_iid}\")\n",
        "\n",
        "for rating in raw_ratings:\n",
        "  uid, iid, ur, timestamp = rating\n",
        "  if iid == search_iid:\n",
        "    count -= 1\n",
        "    print(f\"UserID: {uid:5}, ItemID: {iid:5}, UserRateForItem: {ur:5}, timestamp: {timestamp}\")\n",
        "    if count <= 0:\n",
        "      break"
      ]
    },
    {
      "cell_type": "code",
      "execution_count": 7,
      "metadata": {
        "colab": {
          "base_uri": "https://localhost:8080/",
          "height": 155
        },
        "id": "eBNAH1ei6CVb",
        "outputId": "693389b7-2bec-471f-d362-0dcd29dcea93"
      },
      "outputs": [
        {
          "data": {
            "text/plain": [
              "surprise.dataset.DatasetAutoFolds"
            ]
          },
          "execution_count": 7,
          "metadata": {},
          "output_type": "execute_result"
        }
      ],
      "source": [
        "type(data)\n"
      ]
    },
    {
      "cell_type": "markdown",
      "metadata": {
        "id": "rRY1uQX3-HCp"
      },
      "source": [
        "# Створюємо функції для навчання та оцінки моделі"
      ]
    },
    {
      "cell_type": "code",
      "execution_count": 12,
      "metadata": {
        "id": "AaR7EtTx9c7i"
      },
      "outputs": [],
      "source": [
        "\n",
        "def data_full_trainset(algo, data, uid, iid, ur):\n",
        "    algorithm_name = algo.__class__.__name__\n",
        "    print(f\"Algo: {algorithm_name}, UserID: {uid:5}, ItemID: {iid:5}, UserRateForItem: {ur:5}\")\n",
        "\n",
        "    trainset = data.build_full_trainset()\n",
        "\n",
        "    print(\"Number of train ratings:\", len(list(trainset.all_ratings())))\n",
        "\n",
        "    algo.fit(trainset)\n",
        "\n",
        "    pred = algo.predict(uid, iid, r_ui=ur, verbose=True)\n",
        "\n",
        "    testset = trainset.build_testset()\n",
        "    print(\"Number of test ratings:\", len(testset))\n",
        "\n",
        "    predictions = algo.test(testset)\n",
        "    rmse = accuracy.rmse(predictions, verbose=True) \n",
        "\n",
        "    return pred, rmse\n",
        "\n"
      ]
    },
    {
      "cell_type": "code",
      "execution_count": 13,
      "metadata": {
        "id": "3V6Tf4kA9dcO"
      },
      "outputs": [],
      "source": [
        "\n",
        "def data_train_test_split(algo, data, uid, iid, ur, test_size=0.25):\n",
        "    algorithm_name = algo.__class__.__name__\n",
        "    print(f\"Algo: {algorithm_name}, UserID: {uid:5}, ItemID: {iid:5}, UserRateForItem: {ur:5}\")\n",
        "\n",
        "    trainset, testset = train_test_split(data, test_size=test_size)\n",
        "\n",
        "    print(\"Number of train ratings:\", len(list(trainset.all_ratings())))\n",
        "    algo.fit(trainset)\n",
        "\n",
        "    pred = algo.predict(uid, iid, r_ui=ur, verbose=True)\n",
        "\n",
        "    print(\"Number of test ratings:\", len(testset))\n",
        "\n",
        "    predictions = algo.test(testset)\n",
        "\n",
        "    rmse = accuracy.rmse(predictions, verbose=True)  \n",
        "    return {algorithm_name: rmse}\n"
      ]
    },
    {
      "cell_type": "markdown",
      "metadata": {
        "id": "6hpWxDtH8_wm"
      },
      "source": [
        "# Algorithm SVD."
      ]
    },
    {
      "cell_type": "markdown",
      "metadata": {
        "id": "fAudIXHs0cUn"
      },
      "source": [
        "Алгоритм SVD (сингулярне розкладання матриць) є одним з популярних методів матричної факторизації, що використовується в рекомендаційних системах для передбачення рейтингів, які користувачі можуть поставити тим чи іншим предметам (наприклад, фільмам). У бібліотеці Surprise алгоритм SVD реалізований як клас, який можна використовувати для створення моделей рекомендаційних систем."
      ]
    },
    {
      "cell_type": "markdown",
      "metadata": {
        "id": "M8hHRNoC1IhG"
      },
      "source": [
        "Матрична факторизація:\n",
        "\n",
        "    Основна ідея SVD полягає у факторизації матриці користувач-елемент (рейтингів) на дві нижчого рангу матриці:\n",
        "        Матриця користувачів (P), де рядки представляють користувачів, а стовпці — приховані фактори.\n",
        "        Матриця елементів (Q), де рядки представляють елементи, а стовпці — приховані фактори.\n",
        "    Передбачений рейтинг користувача для конкретного елемента обчислюється як скалярний добуток відповідних векторів із матриць P та Q."
      ]
    },
    {
      "cell_type": "markdown",
      "metadata": {
        "id": "OkgsGH0X9K_A"
      },
      "source": [
        "Метод SVD може бути адаптований до наборів даних з неявним зворотним зв'язком (implicit feedback)."
      ]
    },
    {
      "cell_type": "code",
      "execution_count": 17,
      "metadata": {
        "id": "_Q9-8Y9i8hcV"
      },
      "outputs": [],
      "source": [
        "SEED = 42\n",
        "algo_cv = {}\n",
        "algo_split = {}\n",
        "algo = SVD(random_state=SEED)\n",
        "uid = '233'\n",
        "iid = '99'\n",
        "ur = 3"
      ]
    },
    {
      "cell_type": "code",
      "execution_count": 18,
      "metadata": {
        "colab": {
          "base_uri": "https://localhost:8080/"
        },
        "id": "c1Zws5uz8lUv",
        "outputId": "8a4f6d0e-7095-45d0-d3e5-8e12e55c0a8a"
      },
      "outputs": [
        {
          "name": "stdout",
          "output_type": "stream",
          "text": [
            "Algo: SVD, UserID: 233  , ItemID: 99   , UserRateForItem:     3\n",
            "Number of train ratings: 100000\n",
            "user: 233        item: 99         r_ui = 3.00   est = 4.05   {'was_impossible': False}\n",
            "Number of test ratings: 100000\n",
            "RMSE: 0.6752\n"
          ]
        },
        {
          "data": {
            "text/plain": [
              "(Prediction(uid='233', iid='99', r_ui=3, est=4.053060270524703, details={'was_impossible': False}),\n",
              " 0.6751519444923186)"
            ]
          },
          "execution_count": 18,
          "metadata": {},
          "output_type": "execute_result"
        }
      ],
      "source": [
        "\n",
        "data_full_trainset(algo, data, uid, iid, ur)"
      ]
    },
    {
      "cell_type": "markdown",
      "metadata": {
        "id": "5L0tFkPKGLFP"
      },
      "source": [
        "Отримали низький показник RMSE 0.675, оскільки ми є упередженими"
      ]
    },
    {
      "cell_type": "markdown",
      "metadata": {
        "id": "7c7LJhjYGgM5"
      },
      "source": [
        "Тренування і тестування з розподілом нашого датасету"
      ]
    },
    {
      "cell_type": "code",
      "execution_count": 23,
      "metadata": {
        "colab": {
          "base_uri": "https://localhost:8080/"
        },
        "id": "UDmVMhw3-dSh",
        "outputId": "62aea2a4-416c-4664-9fc9-db63fec02cd1"
      },
      "outputs": [
        {
          "name": "stdout",
          "output_type": "stream",
          "text": [
            "Algo: SVD, UserID: 233  , ItemID: 99   , UserRateForItem:     3\n",
            "Number of train ratings: 75000\n",
            "user: 233        item: 99         r_ui = 3.00   est = 4.18   {'was_impossible': False}\n",
            "Number of test ratings: 25000\n",
            "RMSE: 0.9444\n"
          ]
        }
      ],
      "source": [
        "algo_split.update(data_train_test_split(algo, data, uid, iid, ur))"
      ]
    },
    {
      "cell_type": "code",
      "execution_count": 26,
      "metadata": {
        "id": "Ze7a19IlMsRH"
      },
      "outputs": [],
      "source": [
        "\n",
        "cv = 5\n",
        "\n",
        "import numpy as np\n",
        "\n",
        "def data_cross_validate(algo, data, cv=5):\n",
        "  algorithm_name = algo.__class__.__name__\n",
        "  print(f\"Algo: {algorithm_name}. Cross Validate: {cv}\")\n",
        "  cv_result = cross_validate(algo, data, measures=['RMSE', 'MAE'], cv=cv, verbose=True)\n",
        "  mean_rmse = np.array(cv_result.get('test_rmse')).mean()\n",
        "  mean_fit = np.array(cv_result.get('fit_time')).mean()\n",
        "  mean_test = np.array(cv_result.get('test_time')).mean()\n",
        "\n",
        "  print(f\"{mean_rmse=}\")\n",
        "  return {algorithm_name: (mean_rmse, mean_fit, mean_test)}\n"
      ]
    },
    {
      "cell_type": "code",
      "execution_count": 27,
      "metadata": {
        "colab": {
          "base_uri": "https://localhost:8080/"
        },
        "id": "zGXUIb0U6--y",
        "outputId": "acc6b011-67ad-4adf-8d49-f055c79d021d"
      },
      "outputs": [
        {
          "name": "stdout",
          "output_type": "stream",
          "text": [
            "Algo: SVD. Cross Validate: 5\n",
            "Evaluating RMSE, MAE of algorithm SVD on 5 split(s).\n",
            "\n",
            "                  Fold 1  Fold 2  Fold 3  Fold 4  Fold 5  Mean    Std     \n",
            "RMSE (testset)    0.9330  0.9339  0.9414  0.9330  0.9418  0.9366  0.0041  \n",
            "MAE (testset)     0.7362  0.7357  0.7411  0.7363  0.7420  0.7383  0.0027  \n",
            "Fit time          1.84    1.73    1.79    2.15    1.95    1.89    0.15    \n",
            "Test time         0.28    0.16    0.23    0.12    0.17    0.19    0.05    \n",
            "mean_rmse=0.9365949819386096\n"
          ]
        }
      ],
      "source": [
        "algo_cv.update(data_cross_validate(algo, data))"
      ]
    },
    {
      "cell_type": "markdown",
      "metadata": {
        "id": "E68U-DQ8_0qc"
      },
      "source": [
        "ереднє значення RMSE 0.9365,  похибка між передбаченими та реальними рейтингами становить приблизно 0.94. "
      ]
    },
    {
      "cell_type": "markdown",
      "metadata": {
        "id": "vpQ5cPpO4MpD"
      },
      "source": [
        "# Algorithm SVD++ (SVDpp)"
      ]
    },
    {
      "cell_type": "code",
      "execution_count": 28,
      "metadata": {
        "id": "CENuVfCa4loN"
      },
      "outputs": [],
      "source": [
        "from surprise import SVDpp\n",
        "algo = SVDpp(cache_ratings=True ,random_state=SEED)"
      ]
    },
    {
      "cell_type": "code",
      "execution_count": 29,
      "metadata": {
        "colab": {
          "base_uri": "https://localhost:8080/"
        },
        "id": "lPX_ClNs5XGa",
        "outputId": "685c7c2b-30ab-48f7-8b38-980c4088c3e4"
      },
      "outputs": [
        {
          "name": "stdout",
          "output_type": "stream",
          "text": [
            "Algo: SVDpp, UserID: 233  , ItemID: 99   , UserRateForItem:     3\n",
            "Number of train ratings: 100000\n",
            "user: 233        item: 99         r_ui = 3.00   est = 4.10   {'was_impossible': False}\n",
            "Number of test ratings: 100000\n",
            "RMSE: 0.7574\n"
          ]
        },
        {
          "data": {
            "text/plain": [
              "(Prediction(uid='233', iid='99', r_ui=3, est=4.098912571915785, details={'was_impossible': False}),\n",
              " 0.7574410731286016)"
            ]
          },
          "execution_count": 29,
          "metadata": {},
          "output_type": "execute_result"
        }
      ],
      "source": [
        "data_full_trainset(algo, data, uid, iid, ur)"
      ]
    },
    {
      "cell_type": "code",
      "execution_count": 30,
      "metadata": {
        "colab": {
          "base_uri": "https://localhost:8080/"
        },
        "id": "tXr7r3De-8Ur",
        "outputId": "275bcd15-6c5a-49a0-cba0-1e30f53d0830"
      },
      "outputs": [
        {
          "name": "stdout",
          "output_type": "stream",
          "text": [
            "Algo: SVDpp, UserID: 233  , ItemID: 99   , UserRateForItem:     3\n",
            "Number of train ratings: 75000\n",
            "user: 233        item: 99         r_ui = 3.00   est = 4.14   {'was_impossible': False}\n",
            "Number of test ratings: 25000\n",
            "RMSE: 0.9223\n"
          ]
        }
      ],
      "source": [
        "algo_split.update(data_train_test_split(algo, data, uid, iid, ur))"
      ]
    },
    {
      "cell_type": "code",
      "execution_count": 31,
      "metadata": {
        "colab": {
          "base_uri": "https://localhost:8080/"
        },
        "id": "otSnq8lYBr5J",
        "outputId": "1338dce8-7e7d-4fd5-924d-7a141fa3c38b"
      },
      "outputs": [
        {
          "name": "stdout",
          "output_type": "stream",
          "text": [
            "Algo: SVDpp. Cross Validate: 5\n",
            "Evaluating RMSE, MAE of algorithm SVDpp on 5 split(s).\n",
            "\n",
            "                  Fold 1  Fold 2  Fold 3  Fold 4  Fold 5  Mean    Std     \n",
            "RMSE (testset)    0.9206  0.9195  0.9202  0.9209  0.9146  0.9192  0.0023  \n",
            "MAE (testset)     0.7214  0.7223  0.7224  0.7219  0.7192  0.7214  0.0012  \n",
            "Fit time          22.96   22.82   23.25   22.25   22.78   22.81   0.32    \n",
            "Test time         5.24    5.66    6.03    5.51    5.17    5.52    0.31    \n",
            "mean_rmse=0.9191602114416508\n"
          ]
        }
      ],
      "source": [
        "algo_cv.update(data_cross_validate(algo, data))"
      ]
    },
    {
      "cell_type": "markdown",
      "metadata": {
        "id": "EO8gcGHTDE9X"
      },
      "source": [
        "# Algorithm NMF"
      ]
    },
    {
      "cell_type": "code",
      "execution_count": 32,
      "metadata": {
        "id": "F7b149wEDEPw"
      },
      "outputs": [],
      "source": [
        "from surprise import NMF"
      ]
    },
    {
      "cell_type": "code",
      "execution_count": 33,
      "metadata": {
        "id": "xxJBULH0DMNI"
      },
      "outputs": [],
      "source": [
        "algo = NMF()"
      ]
    },
    {
      "cell_type": "code",
      "execution_count": 38,
      "metadata": {
        "colab": {
          "base_uri": "https://localhost:8080/"
        },
        "id": "mLXf5EPFDP4p",
        "outputId": "b0f17601-0817-4246-d7ff-33d051153f61"
      },
      "outputs": [
        {
          "name": "stdout",
          "output_type": "stream",
          "text": [
            "Algo: NMF, UserID: 233  , ItemID: 99   , UserRateForItem:     3\n",
            "Number of train ratings: 100000\n",
            "user: 233        item: 99         r_ui = 3.00   est = 3.93   {'was_impossible': False}\n",
            "Number of test ratings: 100000\n",
            "RMSE: 0.8169\n"
          ]
        },
        {
          "data": {
            "text/plain": [
              "(Prediction(uid='233', iid='99', r_ui=3, est=3.9344559976466877, details={'was_impossible': False}),\n",
              " 0.8168751813259801)"
            ]
          },
          "execution_count": 38,
          "metadata": {},
          "output_type": "execute_result"
        }
      ],
      "source": [
        "data_full_trainset(algo, data, uid, iid, ur)"
      ]
    },
    {
      "cell_type": "code",
      "execution_count": 39,
      "metadata": {
        "colab": {
          "base_uri": "https://localhost:8080/"
        },
        "id": "tBi40g5pD_zR",
        "outputId": "27aedf53-95e1-46b5-f376-c812ffeb32cf"
      },
      "outputs": [
        {
          "name": "stdout",
          "output_type": "stream",
          "text": [
            "Algo: NMF, UserID: 233  , ItemID: 99   , UserRateForItem:     3\n",
            "Number of train ratings: 75000\n",
            "user: 233        item: 99         r_ui = 3.00   est = 4.17   {'was_impossible': False}\n",
            "Number of test ratings: 25000\n",
            "RMSE: 0.9675\n"
          ]
        }
      ],
      "source": [
        "algo_split.update(data_train_test_split(algo, data, uid, iid, ur))"
      ]
    },
    {
      "cell_type": "code",
      "execution_count": 40,
      "metadata": {
        "colab": {
          "base_uri": "https://localhost:8080/"
        },
        "id": "K1EHWnptEVN7",
        "outputId": "2ceb0a16-a12c-4d4f-e70d-1b70679b9464"
      },
      "outputs": [
        {
          "name": "stdout",
          "output_type": "stream",
          "text": [
            "Algo: NMF. Cross Validate: 5\n",
            "Evaluating RMSE, MAE of algorithm NMF on 5 split(s).\n",
            "\n",
            "                  Fold 1  Fold 2  Fold 3  Fold 4  Fold 5  Mean    Std     \n",
            "RMSE (testset)    0.9662  0.9669  0.9641  0.9667  0.9575  0.9643  0.0035  \n",
            "MAE (testset)     0.7600  0.7596  0.7559  0.7589  0.7543  0.7577  0.0022  \n",
            "Fit time          2.59    2.78    3.29    2.87    2.97    2.90    0.23    \n",
            "Test time         0.15    0.10    0.12    0.33    0.14    0.17    0.08    \n",
            "mean_rmse=0.9642861842335886\n"
          ]
        }
      ],
      "source": [
        "algo_cv.update(data_cross_validate(algo, data))"
      ]
    },
    {
      "cell_type": "code",
      "execution_count": 48,
      "metadata": {
        "colab": {
          "base_uri": "https://localhost:8080/"
        },
        "id": "C3YNSYZDQlBr",
        "outputId": "90b4f7c6-6fb8-43e2-e212-6519f863695c"
      },
      "outputs": [
        {
          "name": "stdout",
          "output_type": "stream",
          "text": [
            "{'SVD': 0.9443544252872612, 'SVDpp': 0.9222999764610824, 'NMF': 0.9675298654883839}\n",
            "{'SVD': (0.9365949819386096, 1.8897473335266113, 0.19034333229064943), 'SVDpp': (0.9191602114416508, 22.811521148681642, 5.52066330909729), 'NMF': (0.9642861842335886, 2.901377248764038, 0.16717829704284667)}\n"
          ]
        }
      ],
      "source": [
        "print(algo_split)\n",
        "print(algo_cv)"
      ]
    },
    {
      "cell_type": "markdown",
      "metadata": {
        "id": "whoa5QuJL4xf"
      },
      "source": [
        "# Візуалізація роботи моделей"
      ]
    },
    {
      "cell_type": "code",
      "execution_count": 49,
      "metadata": {
        "colab": {
          "base_uri": "https://localhost:8080/",
          "height": 1000
        },
        "id": "5HsG5epoHrgi",
        "outputId": "9b659793-da6f-4f89-ba53-7f60e7a635c3"
      },
      "outputs": [
        {
          "data": {
            "image/png": "[encoded data removed]",
            "text/plain": [
              "<Figure size 800x1800 with 2 Axes>"
            ]
          },
          "metadata": {},
          "output_type": "display_data"
        },
        {
          "data": {
            "image/png": "[encoded data removed]",
            "text/plain": [
              "<Figure size 1200x800 with 1 Axes>"
            ]
          },
          "metadata": {},
          "output_type": "display_data"
        }
      ],
      "source": [
        "import matplotlib.pyplot as plt\n",
        "import seaborn as sns\n",
        "import numpy as np\n",
        "\n",
        "model_names = list(algo_split.keys())\n",
        "rmse_values_split = [algo_split[name] for name in model_names]\n",
        "\n",
        "model_names_cv = list(algo_cv.keys())\n",
        "rmse_values_cv = [algo_cv[name][0] for name in model_names_cv]\n",
        "fit_times_cv = [algo_cv[name][1] for name in model_names_cv]\n",
        "test_times_cv = [algo_cv[name][2] for name in model_names_cv]\n",
        "\n",
        "sns.set(style=\"whitegrid\")\n",
        "\n",
        "fig, axes = plt.subplots(2, 1, figsize=(8, 18))\n",
        "\n",
        "sns.barplot(x=model_names, y=rmse_values_split, ax=axes[0], palette=\"viridis\", hue=model_names, legend=False)\n",
        "axes[0].set_title('RMSE для різних алгоритмів (Train-Test Split)')\n",
        "axes[0].set_xlabel('Алгоритм')\n",
        "axes[0].set_ylabel('RMSE')\n",
        "\n",
        "sns.barplot(x=model_names_cv, y=rmse_values_cv, ax=axes[1], palette=\"viridis\", hue=model_names_cv, legend=False)\n",
        "axes[1].set_title('RMSE для різних алгоритмів (Cross-Validation)')\n",
        "axes[1].set_xlabel('Алгоритм')\n",
        "axes[1].set_ylabel('RMSE')\n",
        "\n",
        "width = 0.35 \n",
        "x = np.arange(len(model_names_cv)) \n",
        "\n",
        "fig, ax = plt.subplots(figsize=(12, 8))\n",
        "rects1 = ax.bar(x - width/2, fit_times_cv, width, label='Час навчання', color='b')\n",
        "rects2 = ax.bar(x + width/2, test_times_cv, width, label='Час тестування', color='r')\n",
        "\n",
        "ax.set_xlabel('Алгоритм')\n",
        "ax.set_ylabel('Час (секунди)')\n",
        "ax.set_title('Час навчання і тестування для різних алгоритмів (Cross-Validation)')\n",
        "ax.set_xticks(x)\n",
        "ax.set_xticklabels(model_names_cv)\n",
        "ax.legend()\n",
        "\n",
        "plt.tight_layout()\n",
        "plt.show()\n",
        "\n"
      ]
    },
    {
      "cell_type": "code",
      "execution_count": 50,
      "metadata": {
        "id": "w3552UtDM0FS"
      },
      "outputs": [],
      "source": [
        "best_algo = SVD"
      ]
    },
    {
      "cell_type": "markdown",
      "metadata": {
        "id": "IN7YPf2LPdCC"
      },
      "source": [
        "Пошук оптимальних параметрів використовуючи GridSearchCV для SVD"
      ]
    },
    {
      "cell_type": "code",
      "execution_count": 51,
      "metadata": {
        "id": "7QOZ-9DoPP_D"
      },
      "outputs": [],
      "source": [
        "from surprise.model_selection import GridSearchCV"
      ]
    },
    {
      "cell_type": "code",
      "execution_count": 52,
      "metadata": {
        "id": "aWX4WTpmPkU7"
      },
      "outputs": [],
      "source": [
        "param_grid = {\"random_state\": [SEED],\n",
        "              \"n_epochs\": [10, 15, 20], \"lr_all\": [0.005, 0.007, 0.01], \"reg_all\": [0.01, 0.02, 0.03]\n",
        "              }"
      ]
    },
    {
      "cell_type": "code",
      "execution_count": 53,
      "metadata": {
        "id": "hsLFzbggPpsF"
      },
      "outputs": [],
      "source": [
        "gs = GridSearchCV(best_algo, param_grid, measures=[\"rmse\"], cv=5, n_jobs=-1)"
      ]
    },
    {
      "cell_type": "code",
      "execution_count": 54,
      "metadata": {
        "colab": {
          "base_uri": "https://localhost:8080/"
        },
        "id": "dUIn50MyPtI1",
        "outputId": "8a2df080-1fc0-4403-e87b-9dd7a12e2d6f"
      },
      "outputs": [
        {
          "name": "stdout",
          "output_type": "stream",
          "text": [
            "CPU times: user 26.4 s, sys: 3.46 s, total: 29.9 s\n",
            "Wall time: 2min 40s\n"
          ]
        }
      ],
      "source": [
        "%time gs.fit(data)"
      ]
    },
    {
      "cell_type": "code",
      "execution_count": 55,
      "metadata": {
        "colab": {
          "base_uri": "https://localhost:8080/"
        },
        "id": "sg4ljEIaQFk_",
        "outputId": "a64a9c8f-0abf-40f8-aa94-85db3c80b471"
      },
      "outputs": [
        {
          "name": "stdout",
          "output_type": "stream",
          "text": [
            "0.9312997326981618\n"
          ]
        }
      ],
      "source": [
        "# best RMSE score\n",
        "print(gs.best_score[\"rmse\"])"
      ]
    },
    {
      "cell_type": "code",
      "execution_count": 56,
      "metadata": {
        "colab": {
          "base_uri": "https://localhost:8080/"
        },
        "id": "iVylh2VQQMSp",
        "outputId": "804be861-4ee8-4b9c-ccdd-c01395c448f1"
      },
      "outputs": [
        {
          "name": "stdout",
          "output_type": "stream",
          "text": [
            "best_params={'random_state': 42, 'n_epochs': 20, 'lr_all': 0.007, 'reg_all': 0.03}\n"
          ]
        }
      ],
      "source": [
        "best_params = gs.best_params[\"rmse\"]\n",
        "print(f\"{best_params=}\")"
      ]
    },
    {
      "cell_type": "markdown",
      "metadata": {
        "id": "fVDm1hXpQfeI"
      },
      "source": [
        "Звіт роботи GridSearchCV для всіх комбінацій параметрів"
      ]
    },
    {
      "cell_type": "code",
      "execution_count": 57,
      "metadata": {
        "colab": {
          "base_uri": "https://localhost:8080/",
          "height": 730
        },
        "id": "gwXjv_FvQe8U",
        "outputId": "236626a3-c671-4d4e-9fb1-c6f39d9be5d2"
      },
      "outputs": [
        {
          "data": {
            "application/vnd.google.colaboratory.intrinsic+json": {
              "summary": "{\n  \"name\": \"results_df\",\n  \"rows\": 27,\n  \"fields\": [\n    {\n      \"column\": \"split0_test_rmse\",\n      \"properties\": {\n        \"dtype\": \"number\",\n        \"std\": 0.009979784077995602,\n        \"min\": 0.9333123411690665,\n        \"max\": 0.9801338408175337,\n        \"num_unique_values\": 27,\n        \"samples\": [\n          0.934972529930666,\n          0.9385661757013407,\n          0.9458752964159338\n        ],\n        \"semantic_type\": \"\",\n        \"description\": \"\"\n      }\n    },\n    {\n      \"column\": \"split1_test_rmse\",\n      \"properties\": {\n        \"dtype\": \"number\",\n        \"std\": 0.009568658507084035,\n        \"min\": 0.928856596817211,\n        \"max\": 0.9746334536925502,\n        \"num_unique_values\": 27,\n        \"samples\": [\n          0.9319614050702038,\n          0.93439667696957,\n          0.9419442944613878\n        ],\n        \"semantic_type\": \"\",\n        \"description\": \"\"\n      }\n    },\n    {\n      \"column\": \"split2_test_rmse\",\n      \"properties\": {\n        \"dtype\": \"number\",\n        \"std\": 0.009359835655273202,\n        \"min\": 0.930658086934209,\n        \"max\": 0.9753984935219536,\n        \"num_unique_values\": 27,\n        \"samples\": [\n          0.9338328819141364,\n          0.9366977070566307,\n          0.9445509642487601\n        ],\n        \"semantic_type\": \"\",\n        \"description\": \"\"\n      }\n    },\n    {\n      \"column\": \"split3_test_rmse\",\n      \"properties\": {\n        \"dtype\": \"number\",\n        \"std\": 0.009983322739559694,\n        \"min\": 0.9342801871529651,\n        \"max\": 0.9811911126515781,\n        \"num_unique_values\": 27,\n        \"samples\": [\n          0.9357728243088623,\n          0.9395656540355422,\n          0.946143265504113\n        ],\n        \"semantic_type\": \"\",\n        \"description\": \"\"\n      }\n    },\n    {\n      \"column\": \"split4_test_rmse\",\n      \"properties\": {\n        \"dtype\": \"number\",\n        \"std\": 0.009664750360090773,\n        \"min\": 0.9293914514173575,\n        \"max\": 0.975626329393209,\n        \"num_unique_values\": 27,\n        \"samples\": [\n          0.9320717650783689,\n          0.934836860240948,\n          0.9419731628312101\n        ],\n        \"semantic_type\": \"\",\n        \"description\": \"\"\n      }\n    },\n    {\n      \"column\": \"mean_test_rmse\",\n      \"properties\": {\n        \"dtype\": \"number\",\n        \"std\": 0.009691205213833992,\n        \"min\": 0.9312997326981618,\n        \"max\": 0.977396646015365,\n        \"num_unique_values\": 27,\n        \"samples\": [\n          0.9337222812604475,\n          0.9368126148008062,\n          0.944097396692281\n        ],\n        \"semantic_type\": \"\",\n        \"description\": \"\"\n      }\n    },\n    {\n      \"column\": \"std_test_rmse\",\n      \"properties\": {\n        \"dtype\": \"number\",\n        \"std\": 0.00045274016066806433,\n        \"min\": 0.0013208528391666576,\n        \"max\": 0.002805429108579283,\n        \"num_unique_values\": 27,\n        \"samples\": [\n          0.001523480860401783,\n          0.0020202854419486983,\n          0.0018275912488343318\n        ],\n        \"semantic_type\": \"\",\n        \"description\": \"\"\n      }\n    },\n    {\n      \"column\": \"rank_test_rmse\",\n      \"properties\": {\n        \"dtype\": \"number\",\n        \"std\": 7,\n        \"min\": 1,\n        \"max\": 27,\n        \"num_unique_values\": 27,\n        \"samples\": [\n          4,\n          7,\n          19\n        ],\n        \"semantic_type\": \"\",\n        \"description\": \"\"\n      }\n    },\n    {\n      \"column\": \"mean_fit_time\",\n      \"properties\": {\n        \"dtype\": \"number\",\n        \"std\": 0.4710405900309446,\n        \"min\": 0.9857501029968262,\n        \"max\": 2.5730443477630613,\n        \"num_unique_values\": 27,\n        \"samples\": [\n          1.2654552936553956,\n          1.6895774364471436,\n          1.5294743537902833\n        ],\n        \"semantic_type\": \"\",\n        \"description\": \"\"\n      }\n    },\n    {\n      \"column\": \"std_fit_time\",\n      \"properties\": {\n        \"dtype\": \"number\",\n        \"std\": 0.19627295923539112,\n        \"min\": 0.03621537123836865,\n        \"max\": 0.6059764933356404,\n        \"num_unique_values\": 27,\n        \"samples\": [\n          0.23420783504770704,\n          0.26547339594728125,\n          0.03621537123836865\n        ],\n        \"semantic_type\": \"\",\n        \"description\": \"\"\n      }\n    },\n    {\n      \"column\": \"mean_test_time\",\n      \"properties\": {\n        \"dtype\": \"number\",\n        \"std\": 0.05783082994851115,\n        \"min\": 0.23940176963806153,\n        \"max\": 0.4530972957611084,\n        \"num_unique_values\": 27,\n        \"samples\": [\n          0.27794480323791504,\n          0.29891157150268555,\n          0.23940176963806153\n        ],\n        \"semantic_type\": \"\",\n        \"description\": \"\"\n      }\n    },\n    {\n      \"column\": \"std_test_time\",\n      \"properties\": {\n        \"dtype\": \"number\",\n        \"std\": 0.0458463420920508,\n        \"min\": 0.0029413311616314558,\n        \"max\": 0.1396209536079042,\n        \"num_unique_values\": 27,\n        \"samples\": [\n          0.029245741865904288,\n          0.022107926108010694,\n          0.0029413311616314558\n        ],\n        \"semantic_type\": \"\",\n        \"description\": \"\"\n      }\n    },\n    {\n      \"column\": \"params\",\n      \"properties\": {\n        \"dtype\": \"object\",\n        \"semantic_type\": \"\",\n        \"description\": \"\"\n      }\n    },\n    {\n      \"column\": \"param_random_state\",\n      \"properties\": {\n        \"dtype\": \"number\",\n        \"std\": 0,\n        \"min\": 42,\n        \"max\": 42,\n        \"num_unique_values\": 1,\n        \"samples\": [\n          42\n        ],\n        \"semantic_type\": \"\",\n        \"description\": \"\"\n      }\n    },\n    {\n      \"column\": \"param_n_epochs\",\n      \"properties\": {\n        \"dtype\": \"number\",\n        \"std\": 4,\n        \"min\": 10,\n        \"max\": 20,\n        \"num_unique_values\": 3,\n        \"samples\": [\n          10\n        ],\n        \"semantic_type\": \"\",\n        \"description\": \"\"\n      }\n    },\n    {\n      \"column\": \"param_lr_all\",\n      \"properties\": {\n        \"dtype\": \"number\",\n        \"std\": 0.0020939473213563383,\n        \"min\": 0.005,\n        \"max\": 0.01,\n        \"num_unique_values\": 3,\n        \"samples\": [\n          0.005\n        ],\n        \"semantic_type\": \"\",\n        \"description\": \"\"\n      }\n    },\n    {\n      \"column\": \"param_reg_all\",\n      \"properties\": {\n        \"dtype\": \"number\",\n        \"std\": 0.008320502943378437,\n        \"min\": 0.01,\n        \"max\": 0.03,\n        \"num_unique_values\": 3,\n        \"samples\": [\n          0.01\n        ],\n        \"semantic_type\": \"\",\n        \"description\": \"\"\n      }\n    }\n  ]\n}",
              "type": "dataframe",
              "variable_name": "results_df"
            },
            "text/html": [
              "\n",
              "  <div id=\"df-ff4725a7-7d94-4593-9ce7-7c535c9262ae\" class=\"colab-df-container\">\n",
              "    <div>\n",
              "<style scoped>\n",
              "    .dataframe tbody tr th:only-of-type {\n",
              "        vertical-align: middle;\n",
              "    }\n",
              "\n",
              "    .dataframe tbody tr th {\n",
              "        vertical-align: top;\n",
              "    }\n",
              "\n",
              "    .dataframe thead th {\n",
              "        text-align: right;\n",
              "    }\n",
              "</style>\n",
              "<table border=\"1\" class=\"dataframe\">\n",
              "  <thead>\n",
              "    <tr style=\"text-align: right;\">\n",
              "      <th></th>\n",
              "      <th>split0_test_rmse</th>\n",
              "      <th>split1_test_rmse</th>\n",
              "      <th>split2_test_rmse</th>\n",
              "      <th>split3_test_rmse</th>\n",
              "      <th>split4_test_rmse</th>\n",
              "      <th>mean_test_rmse</th>\n",
              "      <th>std_test_rmse</th>\n",
              "      <th>rank_test_rmse</th>\n",
              "      <th>mean_fit_time</th>\n",
              "      <th>std_fit_time</th>\n",
              "      <th>mean_test_time</th>\n",
              "      <th>std_test_time</th>\n",
              "      <th>params</th>\n",
              "      <th>param_random_state</th>\n",
              "      <th>param_n_epochs</th>\n",
              "      <th>param_lr_all</th>\n",
              "      <th>param_reg_all</th>\n",
              "    </tr>\n",
              "  </thead>\n",
              "  <tbody>\n",
              "    <tr>\n",
              "      <th>0</th>\n",
              "      <td>0.951671</td>\n",
              "      <td>0.947887</td>\n",
              "      <td>0.949788</td>\n",
              "      <td>0.950174</td>\n",
              "      <td>0.947323</td>\n",
              "      <td>0.949369</td>\n",
              "      <td>0.001581</td>\n",
              "      <td>23</td>\n",
              "      <td>1.090543</td>\n",
              "      <td>0.048700</td>\n",
              "      <td>0.330975</td>\n",
              "      <td>0.061549</td>\n",
              "      <td>{'random_state': 42, 'n_epochs': 10, 'lr_all':...</td>\n",
              "      <td>42</td>\n",
              "      <td>10</td>\n",
              "      <td>0.005</td>\n",
              "      <td>0.01</td>\n",
              "    </tr>\n",
              "    <tr>\n",
              "      <th>1</th>\n",
              "      <td>0.950530</td>\n",
              "      <td>0.947004</td>\n",
              "      <td>0.948682</td>\n",
              "      <td>0.948870</td>\n",
              "      <td>0.946290</td>\n",
              "      <td>0.948275</td>\n",
              "      <td>0.001494</td>\n",
              "      <td>22</td>\n",
              "      <td>1.487839</td>\n",
              "      <td>0.275137</td>\n",
              "      <td>0.398900</td>\n",
              "      <td>0.135186</td>\n",
              "      <td>{'random_state': 42, 'n_epochs': 10, 'lr_all':...</td>\n",
              "      <td>42</td>\n",
              "      <td>10</td>\n",
              "      <td>0.005</td>\n",
              "      <td>0.02</td>\n",
              "    </tr>\n",
              "    <tr>\n",
              "      <th>2</th>\n",
              "      <td>0.949809</td>\n",
              "      <td>0.946499</td>\n",
              "      <td>0.947983</td>\n",
              "      <td>0.947996</td>\n",
              "      <td>0.945662</td>\n",
              "      <td>0.947590</td>\n",
              "      <td>0.001425</td>\n",
              "      <td>21</td>\n",
              "      <td>1.021461</td>\n",
              "      <td>0.041096</td>\n",
              "      <td>0.274854</td>\n",
              "      <td>0.043842</td>\n",
              "      <td>{'random_state': 42, 'n_epochs': 10, 'lr_all':...</td>\n",
              "      <td>42</td>\n",
              "      <td>10</td>\n",
              "      <td>0.005</td>\n",
              "      <td>0.03</td>\n",
              "    </tr>\n",
              "    <tr>\n",
              "      <th>3</th>\n",
              "      <td>0.946441</td>\n",
              "      <td>0.942834</td>\n",
              "      <td>0.945144</td>\n",
              "      <td>0.946541</td>\n",
              "      <td>0.942780</td>\n",
              "      <td>0.944748</td>\n",
              "      <td>0.001660</td>\n",
              "      <td>20</td>\n",
              "      <td>0.985750</td>\n",
              "      <td>0.043299</td>\n",
              "      <td>0.271798</td>\n",
              "      <td>0.027062</td>\n",
              "      <td>{'random_state': 42, 'n_epochs': 10, 'lr_all':...</td>\n",
              "      <td>42</td>\n",
              "      <td>10</td>\n",
              "      <td>0.007</td>\n",
              "      <td>0.01</td>\n",
              "    </tr>\n",
              "    <tr>\n",
              "      <th>4</th>\n",
              "      <td>0.944371</td>\n",
              "      <td>0.941217</td>\n",
              "      <td>0.943217</td>\n",
              "      <td>0.944215</td>\n",
              "      <td>0.940890</td>\n",
              "      <td>0.942782</td>\n",
              "      <td>0.001469</td>\n",
              "      <td>16</td>\n",
              "      <td>1.438109</td>\n",
              "      <td>0.333994</td>\n",
              "      <td>0.453097</td>\n",
              "      <td>0.099225</td>\n",
              "      <td>{'random_state': 42, 'n_epochs': 10, 'lr_all':...</td>\n",
              "      <td>42</td>\n",
              "      <td>10</td>\n",
              "      <td>0.007</td>\n",
              "      <td>0.02</td>\n",
              "    </tr>\n",
              "    <tr>\n",
              "      <th>5</th>\n",
              "      <td>0.943335</td>\n",
              "      <td>0.940551</td>\n",
              "      <td>0.942316</td>\n",
              "      <td>0.942944</td>\n",
              "      <td>0.940001</td>\n",
              "      <td>0.941829</td>\n",
              "      <td>0.001321</td>\n",
              "      <td>13</td>\n",
              "      <td>1.189144</td>\n",
              "      <td>0.297892</td>\n",
              "      <td>0.315020</td>\n",
              "      <td>0.061713</td>\n",
              "      <td>{'random_state': 42, 'n_epochs': 10, 'lr_all':...</td>\n",
              "      <td>42</td>\n",
              "      <td>10</td>\n",
              "      <td>0.007</td>\n",
              "      <td>0.03</td>\n",
              "    </tr>\n",
              "    <tr>\n",
              "      <th>6</th>\n",
              "      <td>0.944461</td>\n",
              "      <td>0.940029</td>\n",
              "      <td>0.942344</td>\n",
              "      <td>0.945767</td>\n",
              "      <td>0.940738</td>\n",
              "      <td>0.942668</td>\n",
              "      <td>0.002173</td>\n",
              "      <td>15</td>\n",
              "      <td>1.159345</td>\n",
              "      <td>0.096656</td>\n",
              "      <td>0.302131</td>\n",
              "      <td>0.030128</td>\n",
              "      <td>{'random_state': 42, 'n_epochs': 10, 'lr_all':...</td>\n",
              "      <td>42</td>\n",
              "      <td>10</td>\n",
              "      <td>0.010</td>\n",
              "      <td>0.01</td>\n",
              "    </tr>\n",
              "    <tr>\n",
              "      <th>7</th>\n",
              "      <td>0.938244</td>\n",
              "      <td>0.934541</td>\n",
              "      <td>0.936653</td>\n",
              "      <td>0.939288</td>\n",
              "      <td>0.934977</td>\n",
              "      <td>0.936741</td>\n",
              "      <td>0.001828</td>\n",
              "      <td>6</td>\n",
              "      <td>1.640540</td>\n",
              "      <td>0.433891</td>\n",
              "      <td>0.441492</td>\n",
              "      <td>0.132437</td>\n",
              "      <td>{'random_state': 42, 'n_epochs': 10, 'lr_all':...</td>\n",
              "      <td>42</td>\n",
              "      <td>10</td>\n",
              "      <td>0.010</td>\n",
              "      <td>0.02</td>\n",
              "    </tr>\n",
              "    <tr>\n",
              "      <th>8</th>\n",
              "      <td>0.934973</td>\n",
              "      <td>0.931961</td>\n",
              "      <td>0.933833</td>\n",
              "      <td>0.935773</td>\n",
              "      <td>0.932072</td>\n",
              "      <td>0.933722</td>\n",
              "      <td>0.001523</td>\n",
              "      <td>4</td>\n",
              "      <td>1.265455</td>\n",
              "      <td>0.234208</td>\n",
              "      <td>0.277945</td>\n",
              "      <td>0.029246</td>\n",
              "      <td>{'random_state': 42, 'n_epochs': 10, 'lr_all':...</td>\n",
              "      <td>42</td>\n",
              "      <td>10</td>\n",
              "      <td>0.010</td>\n",
              "      <td>0.03</td>\n",
              "    </tr>\n",
              "    <tr>\n",
              "      <th>9</th>\n",
              "      <td>0.945875</td>\n",
              "      <td>0.941944</td>\n",
              "      <td>0.944551</td>\n",
              "      <td>0.946143</td>\n",
              "      <td>0.941973</td>\n",
              "      <td>0.944097</td>\n",
              "      <td>0.001828</td>\n",
              "      <td>19</td>\n",
              "      <td>1.529474</td>\n",
              "      <td>0.036215</td>\n",
              "      <td>0.239402</td>\n",
              "      <td>0.002941</td>\n",
              "      <td>{'random_state': 42, 'n_epochs': 15, 'lr_all':...</td>\n",
              "      <td>42</td>\n",
              "      <td>15</td>\n",
              "      <td>0.005</td>\n",
              "      <td>0.01</td>\n",
              "    </tr>\n",
              "  </tbody>\n",
              "</table>\n",
              "</div>\n",
              "    <div class=\"colab-df-buttons\">\n",
              "\n",
              "  <div class=\"colab-df-container\">\n",
              "    <button class=\"colab-df-convert\" onclick=\"convertToInteractive('df-ff4725a7-7d94-4593-9ce7-7c535c9262ae')\"\n",
              "            title=\"Convert this dataframe to an interactive table.\"\n",
              "            style=\"display:none;\">\n",
              "\n",
              "  <svg xmlns=\"http://www.w3.org/2000/svg\" height=\"24px\" viewBox=\"0 -960 960 960\">\n",
              "    <path d=\"M120-120v-720h720v720H120Zm60-500h600v-160H180v160Zm220 220h160v-160H400v160Zm0 220h160v-160H400v160ZM180-400h160v-160H180v160Zm440 0h160v-160H620v160ZM180-180h160v-160H180v160Zm440 0h160v-160H620v160Z\"/>\n",
              "  </svg>\n",
              "    </button>\n",
              "\n",
              "  <style>\n",
              "    .colab-df-container {\n",
              "      display:flex;\n",
              "      gap: 12px;\n",
              "    }\n",
              "\n",
              "    .colab-df-convert {\n",
              "      background-color: #E8F0FE;\n",
              "      border: none;\n",
              "      border-radius: 50%;\n",
              "      cursor: pointer;\n",
              "      display: none;\n",
              "      fill: #1967D2;\n",
              "      height: 32px;\n",
              "      padding: 0 0 0 0;\n",
              "      width: 32px;\n",
              "    }\n",
              "\n",
              "    .colab-df-convert:hover {\n",
              "      background-color: #E2EBFA;\n",
              "      box-shadow: 0px 1px 2px rgba(60, 64, 67, 0.3), 0px 1px 3px 1px rgba(60, 64, 67, 0.15);\n",
              "      fill: #174EA6;\n",
              "    }\n",
              "\n",
              "    .colab-df-buttons div {\n",
              "      margin-bottom: 4px;\n",
              "    }\n",
              "\n",
              "    [theme=dark] .colab-df-convert {\n",
              "      background-color: #3B4455;\n",
              "      fill: #D2E3FC;\n",
              "    }\n",
              "\n",
              "    [theme=dark] .colab-df-convert:hover {\n",
              "      background-color: #434B5C;\n",
              "      box-shadow: 0px 1px 3px 1px rgba(0, 0, 0, 0.15);\n",
              "      filter: drop-shadow(0px 1px 2px rgba(0, 0, 0, 0.3));\n",
              "      fill: #FFFFFF;\n",
              "    }\n",
              "  </style>\n",
              "\n",
              "    <script>\n",
              "      const buttonEl =\n",
              "        document.querySelector('#df-ff4725a7-7d94-4593-9ce7-7c535c9262ae button.colab-df-convert');\n",
              "      buttonEl.style.display =\n",
              "        google.colab.kernel.accessAllowed ? 'block' : 'none';\n",
              "\n",
              "      async function convertToInteractive(key) {\n",
              "        const element = document.querySelector('#df-ff4725a7-7d94-4593-9ce7-7c535c9262ae');\n",
              "        const dataTable =\n",
              "          await google.colab.kernel.invokeFunction('convertToInteractive',\n",
              "                                                    [key], {});\n",
              "        if (!dataTable) return;\n",
              "\n",
              "        const docLinkHtml = 'Like what you see? Visit the ' +\n",
              "          '<a target=\"_blank\" href=https://colab.research.google.com/notebooks/data_table.ipynb>data table notebook</a>'\n",
              "          + ' to learn more about interactive tables.';\n",
              "        element.innerHTML = '';\n",
              "        dataTable['output_type'] = 'display_data';\n",
              "        await google.colab.output.renderOutput(dataTable, element);\n",
              "        const docLink = document.createElement('div');\n",
              "        docLink.innerHTML = docLinkHtml;\n",
              "        element.appendChild(docLink);\n",
              "      }\n",
              "    </script>\n",
              "  </div>\n",
              "\n",
              "\n",
              "<div id=\"df-5af52cc8-123f-40d0-bf6b-ef2df4bcdd4c\">\n",
              "  <button class=\"colab-df-quickchart\" onclick=\"quickchart('df-5af52cc8-123f-40d0-bf6b-ef2df4bcdd4c')\"\n",
              "            title=\"Suggest charts\"\n",
              "            style=\"display:none;\">\n",
              "\n",
              "<svg xmlns=\"http://www.w3.org/2000/svg\" height=\"24px\"viewBox=\"0 0 24 24\"\n",
              "     width=\"24px\">\n",
              "    <g>\n",
              "        <path d=\"M19 3H5c-1.1 0-2 .9-2 2v14c0 1.1.9 2 2 2h14c1.1 0 2-.9 2-2V5c0-1.1-.9-2-2-2zM9 17H7v-7h2v7zm4 0h-2V7h2v10zm4 0h-2v-4h2v4z\"/>\n",
              "    </g>\n",
              "</svg>\n",
              "  </button>\n",
              "\n",
              "<style>\n",
              "  .colab-df-quickchart {\n",
              "      --bg-color: #E8F0FE;\n",
              "      --fill-color: #1967D2;\n",
              "      --hover-bg-color: #E2EBFA;\n",
              "      --hover-fill-color: #174EA6;\n",
              "      --disabled-fill-color: #AAA;\n",
              "      --disabled-bg-color: #DDD;\n",
              "  }\n",
              "\n",
              "  [theme=dark] .colab-df-quickchart {\n",
              "      --bg-color: #3B4455;\n",
              "      --fill-color: #D2E3FC;\n",
              "      --hover-bg-color: #434B5C;\n",
              "      --hover-fill-color: #FFFFFF;\n",
              "      --disabled-bg-color: #3B4455;\n",
              "      --disabled-fill-color: #666;\n",
              "  }\n",
              "\n",
              "  .colab-df-quickchart {\n",
              "    background-color: var(--bg-color);\n",
              "    border: none;\n",
              "    border-radius: 50%;\n",
              "    cursor: pointer;\n",
              "    display: none;\n",
              "    fill: var(--fill-color);\n",
              "    height: 32px;\n",
              "    padding: 0;\n",
              "    width: 32px;\n",
              "  }\n",
              "\n",
              "  .colab-df-quickchart:hover {\n",
              "    background-color: var(--hover-bg-color);\n",
              "    box-shadow: 0 1px 2px rgba(60, 64, 67, 0.3), 0 1px 3px 1px rgba(60, 64, 67, 0.15);\n",
              "    fill: var(--button-hover-fill-color);\n",
              "  }\n",
              "\n",
              "  .colab-df-quickchart-complete:disabled,\n",
              "  .colab-df-quickchart-complete:disabled:hover {\n",
              "    background-color: var(--disabled-bg-color);\n",
              "    fill: var(--disabled-fill-color);\n",
              "    box-shadow: none;\n",
              "  }\n",
              "\n",
              "  .colab-df-spinner {\n",
              "    border: 2px solid var(--fill-color);\n",
              "    border-color: transparent;\n",
              "    border-bottom-color: var(--fill-color);\n",
              "    animation:\n",
              "      spin 1s steps(1) infinite;\n",
              "  }\n",
              "\n",
              "  @keyframes spin {\n",
              "    0% {\n",
              "      border-color: transparent;\n",
              "      border-bottom-color: var(--fill-color);\n",
              "      border-left-color: var(--fill-color);\n",
              "    }\n",
              "    20% {\n",
              "      border-color: transparent;\n",
              "      border-left-color: var(--fill-color);\n",
              "      border-top-color: var(--fill-color);\n",
              "    }\n",
              "    30% {\n",
              "      border-color: transparent;\n",
              "      border-left-color: var(--fill-color);\n",
              "      border-top-color: var(--fill-color);\n",
              "      border-right-color: var(--fill-color);\n",
              "    }\n",
              "    40% {\n",
              "      border-color: transparent;\n",
              "      border-right-color: var(--fill-color);\n",
              "      border-top-color: var(--fill-color);\n",
              "    }\n",
              "    60% {\n",
              "      border-color: transparent;\n",
              "      border-right-color: var(--fill-color);\n",
              "    }\n",
              "    80% {\n",
              "      border-color: transparent;\n",
              "      border-right-color: var(--fill-color);\n",
              "      border-bottom-color: var(--fill-color);\n",
              "    }\n",
              "    90% {\n",
              "      border-color: transparent;\n",
              "      border-bottom-color: var(--fill-color);\n",
              "    }\n",
              "  }\n",
              "</style>\n",
              "\n",
              "  <script>\n",
              "    async function quickchart(key) {\n",
              "      const quickchartButtonEl =\n",
              "        document.querySelector('#' + key + ' button');\n",
              "      quickchartButtonEl.disabled = true;  // To prevent multiple clicks.\n",
              "      quickchartButtonEl.classList.add('colab-df-spinner');\n",
              "      try {\n",
              "        const charts = await google.colab.kernel.invokeFunction(\n",
              "            'suggestCharts', [key], {});\n",
              "      } catch (error) {\n",
              "        console.error('Error during call to suggestCharts:', error);\n",
              "      }\n",
              "      quickchartButtonEl.classList.remove('colab-df-spinner');\n",
              "      quickchartButtonEl.classList.add('colab-df-quickchart-complete');\n",
              "    }\n",
              "    (() => {\n",
              "      let quickchartButtonEl =\n",
              "        document.querySelector('#df-5af52cc8-123f-40d0-bf6b-ef2df4bcdd4c button');\n",
              "      quickchartButtonEl.style.display =\n",
              "        google.colab.kernel.accessAllowed ? 'block' : 'none';\n",
              "    })();\n",
              "  </script>\n",
              "</div>\n",
              "\n",
              "    </div>\n",
              "  </div>\n"
            ],
            "text/plain": [
              "   split0_test_rmse  split1_test_rmse  split2_test_rmse  split3_test_rmse  \\\n",
              "0          0.951671          0.947887          0.949788          0.950174   \n",
              "1          0.950530          0.947004          0.948682          0.948870   \n",
              "2          0.949809          0.946499          0.947983          0.947996   \n",
              "3          0.946441          0.942834          0.945144          0.946541   \n",
              "4          0.944371          0.941217          0.943217          0.944215   \n",
              "5          0.943335          0.940551          0.942316          0.942944   \n",
              "6          0.944461          0.940029          0.942344          0.945767   \n",
              "7          0.938244          0.934541          0.936653          0.939288   \n",
              "8          0.934973          0.931961          0.933833          0.935773   \n",
              "9          0.945875          0.941944          0.944551          0.946143   \n",
              "\n",
              "   split4_test_rmse  mean_test_rmse  std_test_rmse  rank_test_rmse  \\\n",
              "0          0.947323        0.949369       0.001581              23   \n",
              "1          0.946290        0.948275       0.001494              22   \n",
              "2          0.945662        0.947590       0.001425              21   \n",
              "3          0.942780        0.944748       0.001660              20   \n",
              "4          0.940890        0.942782       0.001469              16   \n",
              "5          0.940001        0.941829       0.001321              13   \n",
              "6          0.940738        0.942668       0.002173              15   \n",
              "7          0.934977        0.936741       0.001828               6   \n",
              "8          0.932072        0.933722       0.001523               4   \n",
              "9          0.941973        0.944097       0.001828              19   \n",
              "\n",
              "   mean_fit_time  std_fit_time  mean_test_time  std_test_time  \\\n",
              "0       1.090543      0.048700        0.330975       0.061549   \n",
              "1       1.487839      0.275137        0.398900       0.135186   \n",
              "2       1.021461      0.041096        0.274854       0.043842   \n",
              "3       0.985750      0.043299        0.271798       0.027062   \n",
              "4       1.438109      0.333994        0.453097       0.099225   \n",
              "5       1.189144      0.297892        0.315020       0.061713   \n",
              "6       1.159345      0.096656        0.302131       0.030128   \n",
              "7       1.640540      0.433891        0.441492       0.132437   \n",
              "8       1.265455      0.234208        0.277945       0.029246   \n",
              "9       1.529474      0.036215        0.239402       0.002941   \n",
              "\n",
              "                                              params  param_random_state  \\\n",
              "0  {'random_state': 42, 'n_epochs': 10, 'lr_all':...                  42   \n",
              "1  {'random_state': 42, 'n_epochs': 10, 'lr_all':...                  42   \n",
              "2  {'random_state': 42, 'n_epochs': 10, 'lr_all':...                  42   \n",
              "3  {'random_state': 42, 'n_epochs': 10, 'lr_all':...                  42   \n",
              "4  {'random_state': 42, 'n_epochs': 10, 'lr_all':...                  42   \n",
              "5  {'random_state': 42, 'n_epochs': 10, 'lr_all':...                  42   \n",
              "6  {'random_state': 42, 'n_epochs': 10, 'lr_all':...                  42   \n",
              "7  {'random_state': 42, 'n_epochs': 10, 'lr_all':...                  42   \n",
              "8  {'random_state': 42, 'n_epochs': 10, 'lr_all':...                  42   \n",
              "9  {'random_state': 42, 'n_epochs': 15, 'lr_all':...                  42   \n",
              "\n",
              "   param_n_epochs  param_lr_all  param_reg_all  \n",
              "0              10         0.005           0.01  \n",
              "1              10         0.005           0.02  \n",
              "2              10         0.005           0.03  \n",
              "3              10         0.007           0.01  \n",
              "4              10         0.007           0.02  \n",
              "5              10         0.007           0.03  \n",
              "6              10         0.010           0.01  \n",
              "7              10         0.010           0.02  \n",
              "8              10         0.010           0.03  \n",
              "9              15         0.005           0.01  "
            ]
          },
          "execution_count": 57,
          "metadata": {},
          "output_type": "execute_result"
        }
      ],
      "source": [
        "results_df = pd.DataFrame.from_dict(gs.cv_results)\n",
        "results_df.head(10)"
      ]
    },
    {
      "cell_type": "code",
      "execution_count": 58,
      "metadata": {
        "id": "JOVBnY-kRk80"
      },
      "outputs": [],
      "source": [
        "algo = gs.best_estimator[\"rmse\"]"
      ]
    },
    {
      "cell_type": "markdown",
      "metadata": {
        "id": "Ol9Rz2DyR1r5"
      },
      "source": [
        "Найкращі рекомендації для користувачів (SVDpp):"
      ]
    },
    {
      "cell_type": "code",
      "execution_count": 59,
      "metadata": {
        "id": "4LXiPb9fR1Cq"
      },
      "outputs": [],
      "source": [
        "from collections import defaultdict\n",
        "\n",
        "def get_top_n(predictions, n=10):\n",
        "\n",
        "    top_n = defaultdict(list)\n",
        "\n",
        "    for uid, iid, true_r, est, _ in predictions:\n",
        "        top_n[uid].append((iid, est))\n",
        "\n",
        "    for uid, user_ratings in top_n.items():\n",
        "        user_ratings.sort(key=lambda x: x[1], reverse=True)\n",
        "        top_n[uid] = user_ratings[:n]  \n",
        "\n",
        "    return top_n \n"
      ]
    },
    {
      "cell_type": "code",
      "execution_count": 60,
      "metadata": {
        "id": "q5fIWX-CShWM"
      },
      "outputs": [],
      "source": [
        "trainset = data.build_full_trainset()"
      ]
    },
    {
      "cell_type": "code",
      "execution_count": 61,
      "metadata": {
        "colab": {
          "base_uri": "https://localhost:8080/"
        },
        "id": "ULQC-WglSpM8",
        "outputId": "f46f2f2c-71fd-4f14-fd32-6af4e830429d"
      },
      "outputs": [
        {
          "name": "stdout",
          "output_type": "stream",
          "text": [
            "SVD params: {'random_state': 42, 'n_epochs': 20, 'lr_all': 0.007, 'reg_all': 0.03}\n"
          ]
        }
      ],
      "source": [
        "print(algo.__class__.__name__, \"params:\", best_params)"
      ]
    },
    {
      "cell_type": "code",
      "execution_count": 62,
      "metadata": {
        "colab": {
          "base_uri": "https://localhost:8080/"
        },
        "id": "YR5EWqd6S-dg",
        "outputId": "eaa16704-1d63-405f-e061-58553a87833f"
      },
      "outputs": [
        {
          "name": "stdout",
          "output_type": "stream",
          "text": [
            "CPU times: user 2.56 s, sys: 8.66 ms, total: 2.57 s\n",
            "Wall time: 2.62 s\n"
          ]
        },
        {
          "data": {
            "text/plain": [
              "<surprise.prediction_algorithms.matrix_factorization.SVD at 0x7bf4b085e290>"
            ]
          },
          "execution_count": 62,
          "metadata": {},
          "output_type": "execute_result"
        }
      ],
      "source": [
        "%time algo.fit(trainset)"
      ]
    },
    {
      "cell_type": "code",
      "execution_count": 63,
      "metadata": {
        "colab": {
          "base_uri": "https://localhost:8080/"
        },
        "id": "2-_ME2ZKTUQw",
        "outputId": "eeba3c26-f1cc-4cf1-993e-3846b2013a1a"
      },
      "outputs": [
        {
          "name": "stdout",
          "output_type": "stream",
          "text": [
            "CPU times: user 11.7 s, sys: 1.23 s, total: 13 s\n",
            "Wall time: 12.9 s\n"
          ]
        }
      ],
      "source": [
        "testset = trainset.build_anti_testset()\n",
        "%time predictions = algo.test(testset)"
      ]
    },
    {
      "cell_type": "code",
      "execution_count": 65,
      "metadata": {
        "id": "CKdFbR83TBxx"
      },
      "outputs": [],
      "source": [
        "num_recomendations = 5\n",
        "top_n = get_top_n(predictions, n=num_recomendations)"
      ]
    },
    {
      "cell_type": "code",
      "execution_count": 66,
      "metadata": {
        "colab": {
          "base_uri": "https://localhost:8080/"
        },
        "id": "Wu3ZExx2Tcs0",
        "outputId": "47848791-4572-4cfd-c1dd-9553e3f9d75f"
      },
      "outputs": [
        {
          "name": "stdout",
          "output_type": "stream",
          "text": [
            "Найкращі рекомендації для перших 10 користувачів:\n",
            "\n",
            "Для користувача: 196, найкращі 5 рекомендацій: ['1449  : est - (4.75)', '318   : est - (4.69)', '427   : est - (4.57)', '98    : est - (4.56)', '357   : est - (4.55)']\n",
            "Для користувача: 186, найкращі 5 рекомендацій: ['318   : est - (4.83)', '515   : est - (4.68)', '357   : est - (4.64)', '83    : est - (4.59)', '1194  : est - (4.52)']\n",
            "Для користувача: 22, найкращі 5 рекомендацій: ['302   : est - (5.00)', '100   : est - (5.00)', '64    : est - (5.00)', '316   : est - (4.83)', '12    : est - (4.79)']\n",
            "Для користувача: 244, найкращі 5 рекомендацій: ['137   : est - (5.00)', '134   : est - (4.93)', '427   : est - (4.92)', '192   : est - (4.91)', '14    : est - (4.88)']\n",
            "Для користувача: 166, найкращі 5 рекомендацій: ['173   : est - (4.80)', '172   : est - (4.70)', '22    : est - (4.70)', '611   : est - (4.69)', '641   : est - (4.67)']\n",
            "Для користувача: 298, найкращі 5 рекомендацій: ['313   : est - (4.90)', '64    : est - (4.86)', '272   : est - (4.74)', '1449  : est - (4.70)', '169   : est - (4.57)']\n",
            "Для користувача: 115, найкращі 5 рекомендацій: ['134   : est - (5.00)', '179   : est - (5.00)', '285   : est - (4.99)', '408   : est - (4.96)', '615   : est - (4.96)']\n",
            "Для користувача: 253, найкращі 5 рекомендацій: ['174   : est - (4.91)', '136   : est - (4.73)', '199   : est - (4.69)', '69    : est - (4.67)', '1142  : est - (4.66)']\n",
            "Для користувача: 305, найкращі 5 рекомендацій: ['813   : est - (4.25)', '513   : est - (4.24)', '213   : est - (4.17)', '306   : est - (4.14)', '603   : est - (4.11)']\n",
            "Для користувача: 6 , найкращі 5 рекомендацій: ['179   : est - (4.52)', '603   : est - (4.52)', '654   : est - (4.45)', '657   : est - (4.38)', '1449  : est - (4.30)']\n"
          ]
        }
      ],
      "source": [
        "counter=10\n",
        "print(f\"Найкращі рекомендації для перших {counter} користувачів:\\n\")\n",
        "\n",
        "for uid, user_ratings in top_n.items():\n",
        "    recomend = [f\"{iid:6}: est - ({est:.2f})\" for (iid, est) in user_ratings]\n",
        "    print(f\"Для користувача: {uid:2}, найкращі {num_recomendations} рекомендацій: {recomend}\")\n",
        "    counter -= 1\n",
        "    if counter <= 0:\n",
        "      break"
      ]
    }
  ],
  "metadata": {
    "colab": {
      "authorship_tag": "ABX9TyMmb6pcqv8uJC1BkydQTnc0",
      "include_colab_link": true,
      "provenance": []
    },
    "kernelspec": {
      "display_name": "Python 3",
      "name": "python3"
    },
    "language_info": {
      "codemirror_mode": {
        "name": "ipython",
        "version": 3
      },
      "file_extension": ".py",
      "mimetype": "text/x-python",
      "name": "python",
      "nbconvert_exporter": "python",
      "pygments_lexer": "ipython3",
      "version": "3.11.9"
    }
  },
  "nbformat": 4,
  "nbformat_minor": 0
}
